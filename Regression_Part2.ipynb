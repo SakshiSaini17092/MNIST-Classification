{
 "cells": [
  {
   "cell_type": "code",
   "execution_count": 7,
   "metadata": {},
   "outputs": [],
   "source": [
    "import pandas as pd\n",
    "import numpy as np\n",
    "import matplotlib.pyplot as plt\n",
    "import math"
   ]
  },
  {
   "cell_type": "code",
   "execution_count": 8,
   "metadata": {},
   "outputs": [],
   "source": [
    "df = pd.read_csv('C:/Users/saini/OneDrive/Documents/SML/assignment4/data.csv')\n",
    "df = df.dropna()"
   ]
  },
  {
   "cell_type": "code",
   "execution_count": 9,
   "metadata": {},
   "outputs": [],
   "source": [
    "dataset = df.to_numpy()\n",
    "n = dataset.shape[0]\n",
    "# for m =1\n",
    "X = dataset[:,0].reshape((n,1))\n",
    "Y = dataset[:,1].reshape((n,1))"
   ]
  },
  {
   "cell_type": "code",
   "execution_count": 10,
   "metadata": {},
   "outputs": [],
   "source": [
    "# a) Perform Linear regression and compute the RMSE\n",
    "# linear regression\n",
    "def linearRegression(X, Y):\n",
    "    w1 = X.dot(X.T)\n",
    "    inv = np.linalg.inv(w1)\n",
    "    w2 = X.dot(Y)\n",
    "    w = inv.dot(w2)\n",
    "    return w"
   ]
  },
  {
   "cell_type": "code",
   "execution_count": 11,
   "metadata": {},
   "outputs": [],
   "source": [
    "def calcRMSE(x, w, Y):\n",
    "    mse = 0\n",
    "    n = x.shape[1]\n",
    "    d = x.shape[0]\n",
    "    for i in range(n):\n",
    "        xi = x[:,i].reshape((d,1))\n",
    "        pred = (w.T).dot(xi)\n",
    "        yi = Y[i][0]\n",
    "        mse += ( yi - pred )**2\n",
    "\n",
    "    rmse = math.sqrt(mse/n)\n",
    "    return rmse\n"
   ]
  },
  {
   "cell_type": "code",
   "execution_count": 12,
   "metadata": {},
   "outputs": [],
   "source": [
    "def  ploynominal(m, X):\n",
    "    n = X.shape[0]\n",
    "    row = np.zeros((n,1))\n",
    "    ones = np.ones((n,1))\n",
    "    final = np.array(X)\n",
    "    final = np.append(final, ones , axis =1)\n",
    "    p = 2\n",
    "    for k in range(1,m):\n",
    "        row = np.zeros((n,1))\n",
    "        for i in range(len(final)):\n",
    "            row[i][0] = X[i][0]**(p)\n",
    "        p += 1\n",
    "        final = np.append( row , final, axis =1 )\n",
    "    return final.T"
   ]
  },
  {
   "cell_type": "code",
   "execution_count": 13,
   "metadata": {},
   "outputs": [],
   "source": [
    "def plot( w, label):\n",
    "    ypred = (w.T).dot(x)\n",
    "    plt.scatter( X , Y )\n",
    "    plt.plot(X, ypred.T,'ko', label = label)\n",
    "    plt.legend()\n",
    "    plt.show()"
   ]
  },
  {
   "cell_type": "code",
   "execution_count": 14,
   "metadata": {},
   "outputs": [
    {
     "name": "stdout",
     "output_type": "stream",
     "text": [
      "rmse of the dataset is  0.8187007841274979\n"
     ]
    }
   ],
   "source": [
    "# Que2 a part\n",
    "# Que 1 b part\n",
    "# Perform Linear regression for all features and compute the RMSE\n",
    "\n",
    "x = ploynominal( 1 , X)\n",
    "w = linearRegression(x, Y)\n",
    "rmse = calcRMSE(x, w, Y)\n",
    "print( \"rmse of the dataset is \" , rmse )"
   ]
  },
  {
   "cell_type": "code",
   "execution_count": 15,
   "metadata": {},
   "outputs": [],
   "source": [
    "# Que 1 c part Perform k-fold cross-validation for k=5 on the training dataset.\n",
    "# k-fold validation\n",
    "def kFold(X, Y, k):\n",
    "    n = X.shape[0]\n",
    "    length = int(n/k)\n",
    "    prev_index = 0\n",
    "    new_index = length\n",
    "    xiArray = []\n",
    "    yiArray = []\n",
    "    \n",
    "    testX = []\n",
    "    testY = []\n",
    "    for i in range(k):\n",
    "        subPart = X[prev_index:new_index, :]\n",
    "        label = Y[prev_index:new_index]\n",
    "\n",
    "        yiArray.append(label)\n",
    "        xiArray.append(subPart)\n",
    "        prev_index = new_index\n",
    "        new_index += length\n",
    "    \n",
    "    xList = []\n",
    "    yList = []\n",
    "    flag =0\n",
    "\n",
    "    for j in range(k):\n",
    "        features = []\n",
    "        labels = []\n",
    "        for i in range(k):\n",
    "            features.append(xiArray[i])\n",
    "            labels.append(yiArray[i])\n",
    "            \n",
    "        testF = features[flag]\n",
    "        testL = labels[flag]\n",
    "        testX.append(testF)\n",
    "        testY.append(testL)\n",
    "        \n",
    "        del features[flag]\n",
    "        del labels[flag]\n",
    "        \n",
    "        finalX = np.array(features[0])\n",
    "        finalY = np.array(labels[0])\n",
    "\n",
    "        for m in range(1, k-1):\n",
    "            finalX = np.concatenate((features[m], finalX))\n",
    "            finalY = np.concatenate((labels[m], finalY))\n",
    "            xList.append(finalX)\n",
    "            yList.append(finalY)\n",
    "        flag += 1\n",
    "    \n",
    "    return (xList, yList, testX, testY)"
   ]
  },
  {
   "cell_type": "code",
   "execution_count": 17,
   "metadata": {},
   "outputs": [
    {
     "name": "stdout",
     "output_type": "stream",
     "text": [
      "validation error on training dataset 0.813324269976927\n",
      "training error on training dataset 0.8432136973556215\n"
     ]
    }
   ],
   "source": [
    "# Perform k-fold cross-validation for k=5 on the training dataset.\n",
    "# d) part\n",
    "# validation_error\n",
    "xList, yList, testX, testY = kFold(X,Y,5)\n",
    "avg =0\n",
    "for j in range(5):\n",
    "    x = ploynominal(1, xList[j])\n",
    "    w = linearRegression(x, yList[j])\n",
    "    x = ploynominal(1, testX[j])\n",
    "    cross_valid = calcRMSE(x, w, testY[j])\n",
    "    avg += cross_valid\n",
    "    \n",
    "print(\"validation error on training dataset\",avg/5)\n",
    "       \n",
    "avg =0\n",
    "xList, yList, testX, testY = kFold(X,Y,5)\n",
    "for j in range(5):\n",
    "    x = ploynominal(1, xList[j])\n",
    "    w = linearRegression( x, yList[j])\n",
    "    x = ploynominal(1, xList[j])\n",
    "    training_error = calcRMSE( x, w, yList[j])\n",
    "    avg += training_error\n",
    "print(\"training error on training dataset\",avg/5)\n"
   ]
  },
  {
   "cell_type": "code",
   "execution_count": 30,
   "metadata": {},
   "outputs": [
    {
     "name": "stdout",
     "output_type": "stream",
     "text": [
      "Validation error for different degrees [0.813324269976927, 0.8150172084098077, 0.7932433562206112, 0.7941378747220915, 0.599951343321087, 0.6261684047841791, 0.41027115330258085, 0.4114667617206849, 0.4104512059359845, 0.4139268204573791, 0.41513714902234095, 0.4256034215631491, 0.4602843314701898, 0.4718610733409327, 0.6840604462268688, 0.5547603456192162, 0.49399770250921843, 0.440905449781306, 0.630839154517645]\n",
      "best m that fits the dataset best is m : 7\n"
     ]
    }
   ],
   "source": [
    "# e part\n",
    "# e part) Perform step (d) for different degrees of polynomials using Polynomial\n",
    "# Regression (Ex. For degree=1 perform 5-fold cross-validation, For degree=2,\n",
    "# perform 5-fold cross-validation and so on.)\n",
    "# validation_error\n",
    "xList, yList, testX, testY = kFold(X,Y,5)\n",
    "validError = []\n",
    "minAvg = 100000\n",
    "# degree = [1,2,4,5,10,15]\n",
    "for m in range(1, 20):\n",
    "    avg =0\n",
    "    for j in range(5):\n",
    "        x = ploynominal(m, xList[j])\n",
    "        w = linearRegression(x, yList[j])\n",
    "        x = ploynominal(m, testX[j])\n",
    "        cross_valid = calcRMSE(x, w, testY[j])\n",
    "        avg += cross_valid\n",
    "    if( minAvg > avg/5 ):\n",
    "        minAvg = avg/5\n",
    "        bestm = m\n",
    "    validError.append(avg/5)\n",
    "print(\"Validation error for different degrees\", validError)\n",
    "print(\"best m that fits the dataset best is m :\", bestm)\n"
   ]
  },
  {
   "cell_type": "code",
   "execution_count": 31,
   "metadata": {},
   "outputs": [
    {
     "name": "stdout",
     "output_type": "stream",
     "text": [
      "Training error for different degrees [0.8432136973556215, 0.8393945618645875, 0.8179704538378711, 0.815722473463965, 0.5830631970548897, 0.5711352262852506, 0.3913897671807313, 0.3871170302307577, 0.38270652155974927, 0.3812445323771213, 0.3798991468636978, 0.3792350572161221, 0.3784056081153133, 0.3764393978111772, 0.3718054053140938, 0.370503567421006, 0.3609128942169214, 0.35720083013202475, 0.35613909024548046]\n"
     ]
    }
   ],
   "source": [
    "# training_error\n",
    "xList, yList, testX, testY = kFold(X,Y,5)\n",
    "trainError = []\n",
    "# degree = \n",
    "for m in range(1,20):\n",
    "    avg = 0\n",
    "    for j in range(5):\n",
    "        x = ploynominal(m, xList[j])\n",
    "        w = linearRegression( x, yList[j])\n",
    "\n",
    "        x = ploynominal(m, xList[j])\n",
    "        training_error = calcRMSE( x, w, yList[j])\n",
    "        avg += training_error\n",
    "    trainError.append(avg/5)\n",
    "print(\"Training error for different degrees\", trainError)\n"
   ]
  },
  {
   "cell_type": "code",
   "execution_count": 32,
   "metadata": {},
   "outputs": [
    {
     "data": {
      "image/png": "[encoded data removed]",
      "text/plain": [
       "<Figure size 432x288 with 1 Axes>"
      ]
     },
     "metadata": {
      "needs_background": "light"
     },
     "output_type": "display_data"
    }
   ],
   "source": [
    "# f part) Use RMSE as an evaluation metric (Note: You can’t use any inbuilt library for\n",
    "# it). Compute mean RMSE of training and validation set separately from 5-fold\n",
    "# cross-validation for each degree of the polynomial and plot it.\n",
    "\n",
    "plt.plot(validError, label= \"validation error\")\n",
    "plt.plot(trainError, label= \"training error\")\n",
    "plt.legend()\n",
    "plt.show()"
   ]
  },
  {
   "cell_type": "code",
   "execution_count": null,
   "metadata": {},
   "outputs": [],
   "source": []
  }
 ],
 "metadata": {
  "kernelspec": {
   "display_name": "Python 3",
   "language": "python",
   "name": "python3"
  },
  "language_info": {
   "codemirror_mode": {
    "name": "ipython",
    "version": 3
   },
   "file_extension": ".py",
   "mimetype": "text/x-python",
   "name": "python",
   "nbconvert_exporter": "python",
   "pygments_lexer": "ipython3",
   "version": "3.8.1"
  }
 },
 "nbformat": 4,
 "nbformat_minor": 4
}
