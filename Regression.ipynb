{
 "cells": [
  {
   "cell_type": "code",
   "execution_count": 1,
   "metadata": {},
   "outputs": [],
   "source": [
    "import pandas as pd\n",
    "import numpy as np\n",
    "import matplotlib.pyplot as plt\n",
    "import math\n",
    "from sklearn.datasets import load_boston"
   ]
  },
  {
   "cell_type": "code",
   "execution_count": 9,
   "metadata": {},
   "outputs": [],
   "source": [
    "dataset, Yd = load_boston(return_X_y=True)\n",
    "n = dataset.shape[0]\n",
    "percent = int((n*80)/100)\n",
    "\n",
    "X = dataset[:percent,:]\n",
    "Y = Yd[:percent].reshape((percent,1))\n",
    "\n",
    "Xt = dataset[percent:,:]\n",
    "n = Xt.shape[0]\n",
    "Yt = Yd[percent:,].reshape((n,1))"
   ]
  },
  {
   "cell_type": "code",
   "execution_count": 10,
   "metadata": {},
   "outputs": [],
   "source": [
    "# linear regression\n",
    "def linearRegression(X, Y):\n",
    "    w1 = X.dot(X.T)\n",
    "    try:\n",
    "        inv = np.linalg.inv(w1)\n",
    "    except Exception as e:\n",
    "        n = w1.shape[0]\n",
    "        iden = np.identity(n)\n",
    "        w1 += iden\n",
    "        inv = np.linalg.inv(w1)\n",
    "    w2 = X.dot(Y)\n",
    "    w = inv.dot(w2)\n",
    "    return w"
   ]
  },
  {
   "cell_type": "code",
   "execution_count": 11,
   "metadata": {},
   "outputs": [],
   "source": [
    "def calcRMSE(x, w, Y):\n",
    "    mse = 0\n",
    "    n = x.shape[1]\n",
    "    d = x.shape[0]\n",
    "    for i in range(n):\n",
    "        xi = x[:,i].reshape((d,1))\n",
    "        pred = (w.T).dot(xi)\n",
    "        yi = Y[i][0]\n",
    "        mse += ( yi - pred )**2\n",
    "\n",
    "    rmse = math.sqrt(mse/n)\n",
    "    return rmse"
   ]
  },
  {
   "cell_type": "code",
   "execution_count": 12,
   "metadata": {},
   "outputs": [],
   "source": [
    "def  ploynominal(m, X):\n",
    "    n = X.shape[0]\n",
    "    row = np.zeros((n,1))\n",
    "    ones = np.ones((n,1))\n",
    "    final = np.array(X)\n",
    "    final = np.append(final, ones , axis =1)\n",
    "    p = 2\n",
    "    for k in range(1,m):\n",
    "        row = np.zeros((n,1))\n",
    "        for i in range(len(final)):\n",
    "            row[i][0] = X[i][0]**(p)\n",
    "        p += 1\n",
    "        final = np.append( row , final, axis =1 )\n",
    "    return final.T"
   ]
  },
  {
   "cell_type": "code",
   "execution_count": 13,
   "metadata": {},
   "outputs": [],
   "source": [
    "def plot( X, Y, w, label):\n",
    "    ypred = (w.T).dot(x)\n",
    "    plt.scatter( X , Y )\n",
    "    plt.plot(X, ypred.T,'ko')\n",
    "    plt.title(label)\n",
    "    plt.show()"
   ]
  },
  {
   "cell_type": "code",
   "execution_count": 14,
   "metadata": {},
   "outputs": [
    {
     "name": "stdout",
     "output_type": "stream",
     "text": [
      "rmse of the training dataset is  4.772670062114161\n",
      "rmse of the testing dataset is  3.147106095206288\n"
     ]
    }
   ],
   "source": [
    "# Que 1 b part\n",
    "# Perform Linear regression for all features and compute the RMSE for training\n",
    "# as well as the testing set.\n",
    "x = ploynominal( 1 , X)\n",
    "w = linearRegression(x, Y)\n",
    "rmse = calcRMSE(x, w, Y)\n",
    "print( \"rmse of the training dataset is \" , rmse )\n",
    "\n",
    "x = ploynominal(1 , Xt)\n",
    "w = linearRegression(x, Yt)\n",
    "rmse = calcRMSE(x, w, Yt)\n",
    "print( \"rmse of the testing dataset is \" , rmse )\n"
   ]
  },
  {
   "cell_type": "code",
   "execution_count": 15,
   "metadata": {},
   "outputs": [
    {
     "name": "stdout",
     "output_type": "stream",
     "text": [
      "rmse of the lstat is  6.526667958192224\n"
     ]
    }
   ],
   "source": [
    "# c part Select the feature named ‘LSTAT’ for polynomial regression.\n",
    "n = X.shape[0]\n",
    "lstat = X[:, 12].reshape((n,1))\n",
    "\n",
    "x = ploynominal( 1 , lstat)\n",
    "w = linearRegression(x, Y)\n",
    "rmse = calcRMSE(x, w, Y)\n",
    "print( \"rmse of the lstat is \" , rmse )\n"
   ]
  },
  {
   "cell_type": "code",
   "execution_count": 16,
   "metadata": {},
   "outputs": [],
   "source": [
    "# Que 1 d part Perform k-fold cross-validation for k=5 on the training dataset.\n",
    "# k-fold validation\n",
    "def kFold(X, Y, k):\n",
    "    n = X.shape[0]\n",
    "    length = int(n/k)\n",
    "    prev_index = 0\n",
    "    new_index = length\n",
    "    xiArray = []\n",
    "    yiArray = []\n",
    "    \n",
    "    testX = []\n",
    "    testY = []\n",
    "    for i in range(k):\n",
    "        subPart = X[prev_index:new_index, :]\n",
    "        label = Y[prev_index:new_index]\n",
    "\n",
    "        yiArray.append(label)\n",
    "        xiArray.append(subPart)\n",
    "        prev_index = new_index\n",
    "        new_index += length\n",
    "    \n",
    "    xList = []\n",
    "    yList = []\n",
    "    flag =0\n",
    "\n",
    "    for j in range(k):\n",
    "        features = []\n",
    "        labels = []\n",
    "        for i in range(k):\n",
    "            features.append(xiArray[i])\n",
    "            labels.append(yiArray[i])\n",
    "            \n",
    "        testF = features[flag]\n",
    "        testL = labels[flag]\n",
    "        testX.append(testF)\n",
    "        testY.append(testL)\n",
    "        \n",
    "        del features[flag]\n",
    "        del labels[flag]\n",
    "        \n",
    "        finalX = np.array(features[0])\n",
    "        finalY = np.array(labels[0])\n",
    "\n",
    "        for m in range(1, k-1):\n",
    "            finalX = np.concatenate((features[m], finalX))\n",
    "            finalY = np.concatenate((labels[m], finalY))\n",
    "            xList.append(finalX)\n",
    "            yList.append(finalY)\n",
    "        flag += 1\n",
    "    \n",
    "    return (xList, yList, testX, testY)"
   ]
  },
  {
   "cell_type": "code",
   "execution_count": 17,
   "metadata": {},
   "outputs": [
    {
     "name": "stdout",
     "output_type": "stream",
     "text": [
      "validation error on training dataset 6.735802671222214\n",
      "training error on training dataset 6.53978251813079\n"
     ]
    }
   ],
   "source": [
    "# d part) Perform k-fold cross-validation for k=5 on the training dataset. (Note: You can\n",
    "# not use any inbuilt library to implement k-fold cross-validation.)\n",
    "# training data - lstat\n",
    "\n",
    "# validation_error\n",
    "xList, yList, testX, testY = kFold(lstat,Y,5)\n",
    "avg =0\n",
    "for j in range(5):\n",
    "    x = ploynominal(1, xList[j])\n",
    "    w = linearRegression(x, yList[j])\n",
    "    x = ploynominal(1, testX[j])\n",
    "    cross_valid = calcRMSE(x, w, testY[j])\n",
    "    avg += cross_valid\n",
    "    \n",
    "print(\"validation error on training dataset\",avg/5)\n",
    "       \n",
    "avg =0\n",
    "xList, yList, testX, testY = kFold(lstat,Y,5)\n",
    "for j in range(5):\n",
    "    x = ploynominal(1, xList[j])\n",
    "    w = linearRegression( x, yList[j])\n",
    "    x = ploynominal(1, xList[j])\n",
    "    training_error = calcRMSE( x, w, yList[j])\n",
    "    avg += training_error\n",
    "print(\"training error on training dataset\",avg/5)\n"
   ]
  },
  {
   "cell_type": "code",
   "execution_count": 19,
   "metadata": {},
   "outputs": [
    {
     "name": "stdout",
     "output_type": "stream",
     "text": [
      "Validation error for different degrees [6.735802671222214, 6.176132099293534, 5.729097068452185, 5.791846640699091, 5.650273767070741, 5.941306705531024, 9.228573540580067]\n",
      "best m that fits the dataset best is m : 5\n"
     ]
    }
   ],
   "source": [
    "# e part) Perform step (d) for different degrees of polynomials using Polynomial\n",
    "# Regression (Ex. For degree=1 perform 5-fold cross-validation, For degree=2,\n",
    "# perform 5-fold cross-validation and so on.)\n",
    "# validation_error\n",
    "xList, yList, testX, testY = kFold(lstat,Y,5)\n",
    "validError = []\n",
    "minAvg = 100000\n",
    "for m in range(1,8):\n",
    "    avg =0\n",
    "    for j in range(5):\n",
    "        x = ploynominal(m, xList[j])\n",
    "        w = linearRegression(x, yList[j])\n",
    "        x = ploynominal(m, testX[j])\n",
    "        cross_valid = calcRMSE(x, w, testY[j])\n",
    "        avg += cross_valid\n",
    "    if( minAvg > avg/5 ):\n",
    "        minAvg = avg/5\n",
    "        bestm = m\n",
    "    validError.append(avg/5)\n",
    "print(\"Validation error for different degrees\", validError)\n",
    "print(\"best m that fits the dataset best is m :\", bestm)"
   ]
  },
  {
   "cell_type": "code",
   "execution_count": 20,
   "metadata": {},
   "outputs": [
    {
     "name": "stdout",
     "output_type": "stream",
     "text": [
      "Training error for different degrees [6.53978251813079, 5.54162192979593, 5.289438846425401, 5.202319934636476, 5.183092554316819, 5.173174312836759, 5.165044439601641]\n"
     ]
    }
   ],
   "source": [
    "# training_error\n",
    "xList, yList, testX, testY = kFold(lstat,Y,5)\n",
    "trainError = []\n",
    "for m in range(1,8):\n",
    "    avg = 0\n",
    "    for j in range(5):\n",
    "        x = ploynominal(m, xList[j])\n",
    "        w = linearRegression( x, yList[j])\n",
    "\n",
    "        x = ploynominal(m, xList[j])\n",
    "        training_error = calcRMSE( x, w, yList[j])\n",
    "        avg += training_error\n",
    "    trainError.append(avg/5)\n",
    "print(\"Training error for different degrees\", trainError)"
   ]
  },
  {
   "cell_type": "code",
   "execution_count": 21,
   "metadata": {},
   "outputs": [
    {
     "data": {
      "image/png": "[encoded data removed]",
      "text/plain": [
       "<Figure size 432x288 with 1 Axes>"
      ]
     },
     "metadata": {
      "needs_background": "light"
     },
     "output_type": "display_data"
    }
   ],
   "source": [
    "# f part) Use RMSE as an evaluation metric (Note: You can’t use any inbuilt library for\n",
    "# it). Compute mean RMSE of training and validation set separately from 5-fold\n",
    "# cross-validation for each degree of the polynomial and plot it.\n",
    "\n",
    "plt.plot(validError, label= \"validation error\")\n",
    "plt.plot(trainError, label= \"training error\")\n",
    "plt.legend()\n",
    "plt.show()"
   ]
  },
  {
   "cell_type": "code",
   "execution_count": 22,
   "metadata": {},
   "outputs": [
    {
     "data": {
      "image/png": "[encoded data removed]",
      "text/plain": [
       "<Figure size 432x288 with 1 Axes>"
      ]
     },
     "metadata": {
      "needs_background": "light"
     },
     "output_type": "display_data"
    },
    {
     "name": "stdout",
     "output_type": "stream",
     "text": [
      "Testing error : 4.084072491699279\n"
     ]
    }
   ],
   "source": [
    "# g part ) Choose the degree of a polynomial with the least mean validation RMSE and\n",
    "# use that degree of polynomial to perform final regression on the whole training\n",
    "# dataset (i.e., 80% dataset). State the RMSE of the test dataset (i.e., 20%\n",
    "# dataset).\n",
    "# best degree = m = 5\n",
    "\n",
    "x = ploynominal(5, lstat)\n",
    "w = linearRegression(x, Y)\n",
    "plot(lstat, Y, w,\"1\")\n",
    "\n",
    "lstatTest = Xt[:, 12]\n",
    "n = lstatTest.shape[0]\n",
    "lstatTest = lstatTest.reshape((n, 1))\n",
    "\n",
    "x = ploynominal( 5, lstatTest )\n",
    "testing_error = calcRMSE(x, w, Yt)\n",
    "print(\"Testing error :\",testing_error)"
   ]
  },
  {
   "cell_type": "code",
   "execution_count": null,
   "metadata": {},
   "outputs": [],
   "source": []
  },
  {
   "cell_type": "code",
   "execution_count": null,
   "metadata": {},
   "outputs": [],
   "source": []
  },
  {
   "cell_type": "code",
   "execution_count": null,
   "metadata": {},
   "outputs": [],
   "source": []
  }
 ],
 "metadata": {
  "kernelspec": {
   "display_name": "Python 3",
   "language": "python",
   "name": "python3"
  },
  "language_info": {
   "codemirror_mode": {
    "name": "ipython",
    "version": 3
   },
   "file_extension": ".py",
   "mimetype": "text/x-python",
   "name": "python",
   "nbconvert_exporter": "python",
   "pygments_lexer": "ipython3",
   "version": "3.8.1"
  }
 },
 "nbformat": 4,
 "nbformat_minor": 4
}
